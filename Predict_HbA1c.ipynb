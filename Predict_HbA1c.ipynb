{
 "cells": [
  {
   "cell_type": "markdown",
   "metadata": {},
   "source": [
    "# Predicting glycosylated hemoglobin (HbA1c) levels from continuous glucose monitoring (CGM) devices"
   ]
  },
  {
   "cell_type": "markdown",
   "metadata": {},
   "source": [
    "[![Open In Colab](https://colab.research.google.com/assets/colab-badge.svg)](https://colab.research.google.com/github/rashecl/predict_HbA1c/blob/master/Predict_HbA1c.ipynb)"
   ]
  },
  {
   "cell_type": "code",
   "execution_count": 19,
   "metadata": {},
   "outputs": [],
   "source": [
    "import os\n",
    "import timeit\n",
    "from IPython.display import clear_output, Image, display\n",
    "import pandas as pd\n",
    "from ipywidgets import interactive, IntSlider, Dropdown, IntRangeSlider, Layout, Checkbox\n",
    "from pandas.api.types import CategoricalDtype\n",
    "import numpy as np\n",
    "from datetime import datetime,timedelta\n",
    "import seaborn as sns\n",
    "from scipy import stats\n",
    "from scipy.optimize import minimize\n",
    "import matplotlib as mpl\n",
    "import matplotlib.pyplot as plt\n",
    "from mpl_toolkits.mplot3d import axes3d\n",
    "import pickle\n",
    "from warnings import filterwarnings\n",
    "import statsmodels.api as sm\n",
    "from sklearn.model_selection import ShuffleSplit, train_test_split, KFold\n",
    "from sklearn.metrics import mean_squared_error, r2_score\n",
    "from sklearn.linear_model import ElasticNetCV, LassoCV, LinearRegression\n",
    "filterwarnings(action='ignore')\n",
    "import sys\n",
    "if sys.platform == 'linux': # As in Google Colab\n",
    "    ! git clone https://github.com/rashecl/predict_HbA1c.git\n",
    "    ! pip install lmfit\n",
    "    sys.path.append('/content/Predict_HbA1c')\n",
    "\n",
    "def update_progress(numerator, denominator=1, taskName = 'Progress'):\n",
    "    bar_length = 20\n",
    "    block = int(round(bar_length * (numerator/denominator)))\n",
    "    text = taskName + \": [{0}] {1:.1f}%\".format( \"#\" * block + \"-\" * (bar_length - block), (numerator/denominator) * 100)\n",
    "    if (numerator % 10 ==0) or (numerator==denominator):\n",
    "        clear_output(wait=True)\n",
    "        print(text)\n"
   ]
  },
  {
   "cell_type": "markdown",
   "metadata": {},
   "source": [
    "## 1) Introduction\n",
    "\n",
    "Diabetes is a condition associated with insulin resistance (Type II) or insufficiency (Type I), which leads to impaired glucose homestasis. High concentrations of glucose lead to diabetes comorbidities like diabetic retinopathy and neuropathy. While blood glucose measurements give a snapshot of the current blood glucose concentration, glycosylated hemoglobin (HbA1c) is a useful biomarker that reflects the glucose burden over the span of months. HbA1c forms when glucose binds to hemoglobin and through a cascade of steps to form an irreversible advanced glycation end-product. Simliarly, glucose forms advanged glycation end-products with other proteins, which can impair their function. Individuals with diabetes should get their HbA1c levels assessed every 6 months at the clinic to understand how they have been managing their blood sugar levels; however, with the advent of continous glucose monitoring (CGM) devices that show individuals' glucose concentrations every 5 minutes, it should be possible to infer HbA1c levels. \n",
    "\n",
    "**The goal of this project is to use CGM data from the [REPLACE-BG](https://www.ncbi.nlm.nih.gov/pubmed/28209654) dataset to predict HbA1c levels.** This would provide real-time feedback to individuals with diabetes and their physicians on how they have been managing their blood sugar levels without necessarily getting an HbA1c test at the clinic. *Interestingly, this work suggests a framework to assess glucose associated toxicity in real-time.* \n",
    "\n",
    "### **Goal:** \n",
    "Estimate $f$: <br>\n",
    "<center>$\\LARGE HbA1c = f(\\textbf{GLU})$<br>\n",
    "\n",
    "<center>, where $\\textbf{GLU}$ is the CGM data prior to the test</center>\n",
    "\n",
    "In addition to predicting HbA1c levels with CGM data, we'll also look at other features (medical conditions, medications, and demographic) to see if there are other features to improve our HbA1c predictions.  "
   ]
  },
  {
   "cell_type": "markdown",
   "metadata": {},
   "source": [
    "## 2) Data wrangling\n",
    "\n",
    "\n",
    "#### HbA1c test results:\n",
    "First, we will extract **the target variable that we are trying to predict (i.e. HbA1c test results)**. We will select HbA1c results that have at least 90 days of CGM data preceding it since HbA1c tests are thought to reflect the 3-month average blood sugar levels."
   ]
  },
  {
   "cell_type": "code",
   "execution_count": 2,
   "metadata": {},
   "outputs": [
    {
     "data": {
      "text/html": [
       "<div>\n",
       "<style scoped>\n",
       "    .dataframe tbody tr th:only-of-type {\n",
       "        vertical-align: middle;\n",
       "    }\n",
       "\n",
       "    .dataframe tbody tr th {\n",
       "        vertical-align: top;\n",
       "    }\n",
       "\n",
       "    .dataframe thead th {\n",
       "        text-align: right;\n",
       "    }\n",
       "</style>\n",
       "<table border=\"1\" class=\"dataframe\">\n",
       "  <thead>\n",
       "    <tr style=\"text-align: right;\">\n",
       "      <th></th>\n",
       "      <th>PtID</th>\n",
       "      <th>Day</th>\n",
       "      <th>HbA1c</th>\n",
       "    </tr>\n",
       "  </thead>\n",
       "  <tbody>\n",
       "    <tr>\n",
       "      <th>0</th>\n",
       "      <td>2</td>\n",
       "      <td>151.0</td>\n",
       "      <td>6.3</td>\n",
       "    </tr>\n",
       "    <tr>\n",
       "      <th>1</th>\n",
       "      <td>2</td>\n",
       "      <td>242.0</td>\n",
       "      <td>6.2</td>\n",
       "    </tr>\n",
       "    <tr>\n",
       "      <th>2</th>\n",
       "      <td>3</td>\n",
       "      <td>168.0</td>\n",
       "      <td>6.8</td>\n",
       "    </tr>\n",
       "    <tr>\n",
       "      <th>3</th>\n",
       "      <td>3</td>\n",
       "      <td>258.0</td>\n",
       "      <td>7.1</td>\n",
       "    </tr>\n",
       "    <tr>\n",
       "      <th>4</th>\n",
       "      <td>5</td>\n",
       "      <td>113.0</td>\n",
       "      <td>6.3</td>\n",
       "    </tr>\n",
       "    <tr>\n",
       "      <th>...</th>\n",
       "      <td>...</td>\n",
       "      <td>...</td>\n",
       "      <td>...</td>\n",
       "    </tr>\n",
       "    <tr>\n",
       "      <th>443</th>\n",
       "      <td>291</td>\n",
       "      <td>166.0</td>\n",
       "      <td>7.0</td>\n",
       "    </tr>\n",
       "    <tr>\n",
       "      <th>444</th>\n",
       "      <td>292</td>\n",
       "      <td>114.0</td>\n",
       "      <td>6.1</td>\n",
       "    </tr>\n",
       "    <tr>\n",
       "      <th>445</th>\n",
       "      <td>292</td>\n",
       "      <td>191.0</td>\n",
       "      <td>6.8</td>\n",
       "    </tr>\n",
       "    <tr>\n",
       "      <th>446</th>\n",
       "      <td>293</td>\n",
       "      <td>192.0</td>\n",
       "      <td>7.6</td>\n",
       "    </tr>\n",
       "    <tr>\n",
       "      <th>447</th>\n",
       "      <td>293</td>\n",
       "      <td>104.0</td>\n",
       "      <td>7.2</td>\n",
       "    </tr>\n",
       "  </tbody>\n",
       "</table>\n",
       "<p>448 rows × 3 columns</p>\n",
       "</div>"
      ],
      "text/plain": [
       "     PtID    Day  HbA1c\n",
       "0       2  151.0    6.3\n",
       "1       2  242.0    6.2\n",
       "2       3  168.0    6.8\n",
       "3       3  258.0    7.1\n",
       "4       5  113.0    6.3\n",
       "..    ...    ...    ...\n",
       "443   291  166.0    7.0\n",
       "444   292  114.0    6.1\n",
       "445   292  191.0    6.8\n",
       "446   293  192.0    7.6\n",
       "447   293  104.0    7.2\n",
       "\n",
       "[448 rows x 3 columns]"
      ]
     },
     "execution_count": 2,
     "metadata": {},
     "output_type": "execute_result"
    }
   ],
   "source": [
    "HbA1c_results = pd.read_csv('Data/HLocalHbA1c.txt',delimiter='|')[['PtID', 'HbA1cTestDtDaysAfterEnroll', 'HbA1cTestRes']]\n",
    "HbA1c_results.columns= ['PtID', 'Day', 'HbA1c']\n",
    "HbA1c_results = HbA1c_results = HbA1c_results[~np.isnan(HbA1c_results.HbA1c) & (HbA1c_results['Day'] > 90)].sort_values('PtID').reset_index(drop=True)\n",
    "HbA1c_results"
   ]
  },
  {
   "cell_type": "markdown",
   "metadata": {},
   "source": [
    "#### CGM data:\n",
    "Next, we'll wrangle the continous glucose measurements for the 226 subjects starting from the date of enrollment."
   ]
  },
  {
   "cell_type": "code",
   "execution_count": 3,
   "metadata": {
    "scrolled": false
   },
   "outputs": [
    {
     "data": {
      "text/html": [
       "<div>\n",
       "<style scoped>\n",
       "    .dataframe tbody tr th:only-of-type {\n",
       "        vertical-align: middle;\n",
       "    }\n",
       "\n",
       "    .dataframe tbody tr th {\n",
       "        vertical-align: top;\n",
       "    }\n",
       "\n",
       "    .dataframe thead th {\n",
       "        text-align: right;\n",
       "    }\n",
       "</style>\n",
       "<table border=\"1\" class=\"dataframe\">\n",
       "  <thead>\n",
       "    <tr style=\"text-align: right;\">\n",
       "      <th></th>\n",
       "      <th>PtID</th>\n",
       "      <th>DaysFromEnroll</th>\n",
       "      <th>Time</th>\n",
       "      <th>GlucoseValue</th>\n",
       "      <th>WeeksFromEnroll</th>\n",
       "    </tr>\n",
       "  </thead>\n",
       "  <tbody>\n",
       "    <tr>\n",
       "      <th>0</th>\n",
       "      <td>2</td>\n",
       "      <td>0</td>\n",
       "      <td>10:41:29</td>\n",
       "      <td>143.0</td>\n",
       "      <td>0</td>\n",
       "    </tr>\n",
       "    <tr>\n",
       "      <th>1</th>\n",
       "      <td>2</td>\n",
       "      <td>0</td>\n",
       "      <td>10:46:29</td>\n",
       "      <td>151.0</td>\n",
       "      <td>0</td>\n",
       "    </tr>\n",
       "    <tr>\n",
       "      <th>2</th>\n",
       "      <td>2</td>\n",
       "      <td>0</td>\n",
       "      <td>10:51:29</td>\n",
       "      <td>149.0</td>\n",
       "      <td>0</td>\n",
       "    </tr>\n",
       "    <tr>\n",
       "      <th>3</th>\n",
       "      <td>2</td>\n",
       "      <td>0</td>\n",
       "      <td>10:56:29</td>\n",
       "      <td>140.0</td>\n",
       "      <td>0</td>\n",
       "    </tr>\n",
       "    <tr>\n",
       "      <th>4</th>\n",
       "      <td>2</td>\n",
       "      <td>0</td>\n",
       "      <td>11:01:29</td>\n",
       "      <td>149.0</td>\n",
       "      <td>0</td>\n",
       "    </tr>\n",
       "    <tr>\n",
       "      <th>...</th>\n",
       "      <td>...</td>\n",
       "      <td>...</td>\n",
       "      <td>...</td>\n",
       "      <td>...</td>\n",
       "      <td>...</td>\n",
       "    </tr>\n",
       "    <tr>\n",
       "      <th>13358635</th>\n",
       "      <td>293</td>\n",
       "      <td>192</td>\n",
       "      <td>09:38:07</td>\n",
       "      <td>186.0</td>\n",
       "      <td>27</td>\n",
       "    </tr>\n",
       "    <tr>\n",
       "      <th>13358636</th>\n",
       "      <td>293</td>\n",
       "      <td>192</td>\n",
       "      <td>09:43:07</td>\n",
       "      <td>186.0</td>\n",
       "      <td>27</td>\n",
       "    </tr>\n",
       "    <tr>\n",
       "      <th>13358637</th>\n",
       "      <td>293</td>\n",
       "      <td>192</td>\n",
       "      <td>09:48:07</td>\n",
       "      <td>183.0</td>\n",
       "      <td>27</td>\n",
       "    </tr>\n",
       "    <tr>\n",
       "      <th>13358638</th>\n",
       "      <td>293</td>\n",
       "      <td>192</td>\n",
       "      <td>09:53:07</td>\n",
       "      <td>178.0</td>\n",
       "      <td>27</td>\n",
       "    </tr>\n",
       "    <tr>\n",
       "      <th>13358639</th>\n",
       "      <td>293</td>\n",
       "      <td>192</td>\n",
       "      <td>09:58:07</td>\n",
       "      <td>172.0</td>\n",
       "      <td>27</td>\n",
       "    </tr>\n",
       "  </tbody>\n",
       "</table>\n",
       "<p>13358640 rows × 5 columns</p>\n",
       "</div>"
      ],
      "text/plain": [
       "          PtID  DaysFromEnroll     Time  GlucoseValue  WeeksFromEnroll\n",
       "0            2               0 10:41:29         143.0                0\n",
       "1            2               0 10:46:29         151.0                0\n",
       "2            2               0 10:51:29         149.0                0\n",
       "3            2               0 10:56:29         140.0                0\n",
       "4            2               0 11:01:29         149.0                0\n",
       "...        ...             ...      ...           ...              ...\n",
       "13358635   293             192 09:38:07         186.0               27\n",
       "13358636   293             192 09:43:07         186.0               27\n",
       "13358637   293             192 09:48:07         183.0               27\n",
       "13358638   293             192 09:53:07         178.0               27\n",
       "13358639   293             192 09:58:07         172.0               27\n",
       "\n",
       "[13358640 rows x 5 columns]"
      ]
     },
     "execution_count": 3,
     "metadata": {},
     "output_type": "execute_result"
    }
   ],
   "source": [
    "if os.path.exists('Data/ReplaceBG_2.p'):\n",
    "    [CGM,BGM] = pickle.load(open(\"Data/ReplaceBG_2.p\", \"rb\"))\n",
    "else:\n",
    "    print('This should take about 3.5 minutes if everything goes according to plan...')\n",
    "    start_time = timeit.default_timer()\n",
    "    CGM = pd.read_csv('Data/HDeviceCGM.txt', delimiter='|')\n",
    "    CGM = CGM[(CGM.RecordType=='CGM') & (CGM.GlucoseValue>=40) & (CGM.GlucoseValue<=400)]\n",
    "    CGM = CGM[CGM.DeviceDtTmDaysFromEnroll >= 0][['PtID', 'DeviceDtTmDaysFromEnroll', 'DeviceTm', 'GlucoseValue']].reset_index(drop=True)\n",
    "    CGM.columns = ['PtID', 'DaysFromEnroll', 'Time', 'GlucoseValue']\n",
    "    CGM = CGM[CGM.PtID.apply(lambda x: x not in excludeIds)]\n",
    "    elapsed = timeit.default_timer() - start_time\n",
    "    print('Loaded CGM data...{:.2f}s'.format(elapsed))\n",
    "\n",
    "    CGM.Time = CGM.Time.apply(pd.to_timedelta)\n",
    "    elapsed = timeit.default_timer() - start_time\n",
    "    print('Converted CGM to timedelta...{:.2f}s'.format(elapsed))\n",
    "\n",
    "    CGM.sort_values(['PtID', 'DaysFromEnroll', 'Time'], inplace=True)\n",
    "    elapsed = timeit.default_timer() - start_time\n",
    "    CGM.reset_index(drop=True, inplace=True)\n",
    "    CGM['WeeksFromEnroll'] = CGM.DaysFromEnroll.apply(lambda x: x//7)\n",
    "    \n",
    "    \n",
    "    print('Sorted CGM data...Finished! {:.2f}s:'.format(elapsed))\n",
    "\n",
    "    BGM = pd.read_csv('Data/HDeviceBGM.txt', delimiter='|')\n",
    "    elapsed = timeit.default_timer() - start_time\n",
    "    print('Loaded BGM data...{:.2f}'.format(elapsed))\n",
    "\n",
    "    BGM = BGM[BGM.PtID.apply(lambda x: x not in excludeIds)]\n",
    "    BGM = BGM[ (BGM.DeviceDtTmDaysFromEnroll >= 0) & (BGM.DeviceDtTmDaysFromEnroll < 1000) ][['PtID', 'DeviceDtTmDaysFromEnroll', 'DeviceTm', 'GlucoseValue']]\n",
    "    BGM = BGM[BGM['RecordType']=='BGM']\n",
    "    BGM.columns = ['PtID', 'DaysFromEnroll', 'Time', 'GlucoseValue']\n",
    "\n",
    "    BGM.DeviceTm = BGM.Time.apply(pd.to_timedelta)\n",
    "    elapsed = timeit.default_timer() - start_time\n",
    "    print('Converted BGM to timedelta...{:.2f}'.format(elapsed))\n",
    "\n",
    "    BGM.sort_values(['PtID', 'DaysFromEnroll', 'Time'], inplace=True)\n",
    "    BGM.reset_index(drop=True, inplace=True)\n",
    "    BGM['WeeksFromEnroll'] = BGM.DaysFromEnroll.apply(lambda x: x//7)\n",
    "    \n",
    "    elapsed = timeit.default_timer() - start_time\n",
    "    print('Sorted BGM data...Finished!{:.2f}s'.format(elapsed))\n",
    "    pickle.dump([CGM,BGM], open(\"Data/ReplaceBG_2.p\", \"wb\"))\n",
    "CGM"
   ]
  },
  {
   "cell_type": "markdown",
   "metadata": {},
   "source": [
    "## 3) Data exploration"
   ]
  },
  {
   "cell_type": "markdown",
   "metadata": {},
   "source": [
    "### GUI to explore individual subjects CGM data and HbA1c test days"
   ]
  },
  {
   "cell_type": "code",
   "execution_count": 4,
   "metadata": {},
   "outputs": [
    {
     "data": {
      "application/vnd.jupyter.widget-view+json": {
       "model_id": "13b53733d92c429688c4f06d28fbde80",
       "version_major": 2,
       "version_minor": 0
      },
      "text/plain": [
       "interactive(children=(Dropdown(description='ptID', index=1, options=(2, 3, 5, 7, 8, 9, 10, 11, 14, 15, 16, 17,…"
      ]
     },
     "metadata": {},
     "output_type": "display_data"
    }
   ],
   "source": [
    "def plotPtData(ptID = 3, day_range=[127,127], show90DayMeanDist=False):\n",
    "    fig=plt.figure(figsize=(8,8))\n",
    "    grid= plt.GridSpec(5,2)\n",
    "    mean_ax = fig.add_subplot(grid[0, :])\n",
    "    sns.lineplot(x='DaysFromEnroll', y='GlucoseValue', data=CGM[(CGM['PtID']==ptID)].groupby('DaysFromEnroll').mean().reset_index(),\n",
    "                ax=mean_ax)\n",
    "    mean_ax.set_ylabel('mean [GLU]\\n(daily)', fontsize=12)\n",
    "    \n",
    "    mean_ax.fill_between([day_range[0],day_range[1]],[300,300],color='grey', alpha=0.35)\n",
    "    test_days= HbA1c_results[HbA1c_results.PtID == ptID].Day\n",
    "    mean_ax.scatter(test_days, [0]*len(test_days), marker='^',color='g', label='HbA1c test')\n",
    "    mean_ax.set_xlim([0,330])\n",
    "    mean_ax.set_xlabel('Days from enrollment', fontsize=12)\n",
    "    mean_ax.legend()\n",
    "    \n",
    "    counts_ax = fig.add_subplot(grid[1, :])\n",
    "    sns.scatterplot(x='DaysFromEnroll', y='GlucoseValue', data=CGM[(CGM['PtID']==ptID)].groupby('DaysFromEnroll').count().reset_index(),\n",
    "                marker='.',ax=counts_ax)\n",
    "    counts_ax.set_ylabel('# of data\\npoints', fontsize=12)\n",
    "    counts_ax.set_xlabel('Days from enrollment', fontsize=12)\n",
    "    counts_ax.fill_between([day_range[0],day_range[1]],[300,300],color='grey', alpha=0.35)\n",
    "    counts_ax.plot([0,330],[72,72],linestyle='--')\n",
    "    counts_ax.set_xlim([0,330])\n",
    "    counts_ax.set_title('# of data points', fontsize=16)\n",
    "    \n",
    "    dist_ax = fig.add_subplot(grid[2:, :])\n",
    "    gluVals = CGM[(CGM['PtID']==ptID) & (CGM['DaysFromEnroll']>= day_range[0]) & (CGM['DaysFromEnroll']<= day_range[1]) ].GlucoseValue\n",
    "    sns.distplot(gluVals, bins=np.linspace(40,400,36))    \n",
    "    if show90DayMeanDist:\n",
    "        test_day = day_range[1]\n",
    "        df = CGM[(CGM.PtID == PtID) & ((test_day-CGM.DaysFromEnroll)>0)][['PtID', 'DaysFromEnroll', 'GlucoseValue']]\n",
    "        df['DaysFromTest'] = test_day - df['DaysFromEnroll']\n",
    "        df=df[df.DaysFromTest <=90]\n",
    "        glu_conc_bins = np.arange(45,400,10)\n",
    "        fittedGlu = stats.lognorm(*stats.lognorm.fit(df.GlucoseValue))\n",
    "        dist_ax.scatter(glu_conc_bins, fittedGlu.pdf(x=glu_conc_bins)*.1/np.sum(fittedGlu.pdf(x=glu_conc_bins)),marker='.')\n",
    "\n",
    "    dist_ax.set_xlim([0,400])\n",
    "    dist_ax.set_title('Glucose probability distribution', fontsize=20)\n",
    "    dist_ax.set_ylabel('Probability', fontsize=16)\n",
    "    dist_ax.set_xlabel('[GLU]', fontsize=16)\n",
    "    plt.tight_layout()\n",
    "    return\n",
    "\n",
    "subjectDropdown = Dropdown(options=CGM['PtID'].unique(),\n",
    "                           value=3)\n",
    "day_rangeSlider = IntRangeSlider(value=[127, 127], min=0, max=330, step=1, continuous_update=False, layout=Layout(width='65%', height='80px'))\n",
    "interactive(plotPtData,\n",
    "           ptID=subjectDropdown,\n",
    "           day_range= day_rangeSlider)\n"
   ]
  },
  {
   "cell_type": "markdown",
   "metadata": {},
   "source": [
    "### Determine how many days had insufficient GLU measurements (<72 data points ~ 6 hours):"
   ]
  },
  {
   "cell_type": "code",
   "execution_count": 5,
   "metadata": {},
   "outputs": [
    {
     "data": {
      "image/png": "[encoded data removed]",
      "text/plain": [
       "<IPython.core.display.Image object>"
      ]
     },
     "metadata": {},
     "output_type": "display_data"
    }
   ],
   "source": [
    "if os.path.exists('PresentationFigs/dailyMeasurementCounts.png'):\n",
    "    img = Image(filename='PresentationFigs/dailyMeasurementCounts.png')\n",
    "    display(img)\n",
    "else:\n",
    "    ans = input(prompt=\"Do you want to run this analysis (Y/N)? It will take a long time (~1 hour).\")\n",
    "    if ans.lower() == 'y':\n",
    "        nDataPoints=[]\n",
    "        allPtIds = CGM.PtID.unique()\n",
    "        for ptID in allPtIds[0:30]:\n",
    "            ptTrialLen = CGM[CGM.PtID == ptID].DaysFromEnroll.max()\n",
    "            for d in range(ptTrialLen+1):\n",
    "                nDataPoints.append(np.sum((CGM.PtID == ptID) & (CGM.DaysFromEnroll==d)))\n",
    "                update_progress(numerator=d, denominator=ptTrialLen, taskName='PtID {:1.0f} (max PtID= {:1.0f}): Progress'.format(ptID, allPtIds.max()))\n",
    "        \n",
    "        plt.figure(figsize=(12,6))\n",
    "        plt.hist(nDataPoints, bins=range(0,300,10))\n",
    "        plt.title('Count of daily glucose measurements\\n(across all subject-days)\\n{:.2f}% of days have insufficient (<72) GLU measurements'.format(100*np.sum(np.array(nDataPoints)<=72)/len(nDataPoints)),FontSize=24)\n",
    "        plt.ylabel('# Days',FontSize=18)\n",
    "        plt.xlabel('# GLU measurements',FontSize=18)\n",
    "        plt.xticks(fontsize=16); plt.yticks(fontsize=16) \n",
    "        plt.tight_layout()\n",
    "        plt.savefig('PresentationFigs/dailyMeasurementCounts.png')\n",
    "    else:\n",
    "        pass\n",
    "    "
   ]
  },
  {
   "cell_type": "markdown",
   "metadata": {},
   "source": [
    "### GLU probablity distributions (gluPDs) over the last 90 days:\n",
    "\n",
    "A useful method to represent CGM data is daily probablity distributions. This not only allows for a nice visualiztion, but provides us with a substrate that we can map to HbA1c levels."
   ]
  },
  {
   "cell_type": "code",
   "execution_count": 6,
   "metadata": {},
   "outputs": [
    {
     "data": {
      "application/vnd.jupyter.widget-view+json": {
       "model_id": "ec65b4d82d9a497c82bb58b9bf4d78be",
       "version_major": 2,
       "version_minor": 0
      },
      "text/plain": [
       "interactive(children=(Dropdown(description='PtID', index=2, options=(2, 3, 5, 7, 8, 9, 10, 11, 14, 15, 16, 17,…"
      ]
     },
     "metadata": {},
     "output_type": "display_data"
    }
   ],
   "source": [
    "def get90DayCGMdata(PtID=2, test_day=100, showPlot=False):\n",
    "#     PtID=2; test_day=100;\n",
    "    if np.sum(CGM.PtID == PtID) == 0:\n",
    "        print('No data for this PtID')\n",
    "        return np.zeros(shape=(90,36))\n",
    "    gluPDF_90d=np.zeros(shape=(90,36))\n",
    "    df = CGM[(CGM.PtID == PtID) & ((test_day-CGM.DaysFromEnroll)>0)][['PtID', 'DaysFromEnroll', 'GlucoseValue']]\n",
    "    df['DaysFromTest'] = test_day - df['DaysFromEnroll']\n",
    "    df=df[df.DaysFromTest <=90]\n",
    "    calculatedMeanGluDist_bool = False\n",
    "    glu_conc_bins = np.arange(45,400,10)\n",
    "    imputedDays = []\n",
    "    for d in range(1,91):\n",
    "        if np.sum(df.DaysFromTest==d) < 72:\n",
    "            imputedDays.append(d)\n",
    "            clear_output(wait=True)\n",
    "            print('Imputing data for Pt {:1.0f} on {:1.0f} days prior to test.'.format(PtID, d))\n",
    "            if not calculatedMeanGluDist_bool:\n",
    "                fittedGlu = stats.lognorm(*stats.lognorm.fit(df.GlucoseValue))\n",
    "                meanGluDist = fittedGlu.pdf(x=glu_conc_bins)/np.sum(fittedGlu.pdf(x=glu_conc_bins))\n",
    "#                 print('MeanGluDist: ', meanGluDist)\n",
    "                gluPDF_90d[d-1,:] = meanGluDist\n",
    "                calculatedMeanGluDist_bool= True\n",
    "            else: \n",
    "                gluPDF_90d[d-1,:] = meanGluDist\n",
    "#                 print('MeanGlu rep: ', meanGluDist)\n",
    "        else:\n",
    "            currGLUpdf = np.histogram(df[df.DaysFromTest==d].GlucoseValue, bins=36, range=(40,400), density=True)[0]\n",
    "            currGLUpdf = currGLUpdf/np.sum(currGLUpdf)\n",
    "            gluPDF_90d[d-1,:] = currGLUpdf\n",
    "        update_progress(numerator=d, denominator=91, taskName='Creating temporal GLU pdf for Pt{:1.0f}'.format(PtID))\n",
    "    \n",
    "    if showPlot:\n",
    "        fig,ax = plt.subplots(figsize=(12,8))\n",
    "        sns.heatmap(gluPDF_90d, ax=ax)\n",
    "        ax.set_xlabel('[GLU]', fontsize=16)\n",
    "        ax.set_ylabel('Days from HbA1c test', fontsize=16)\n",
    "        for dd in imputedDays:\n",
    "            rect = mpl.patches.Rectangle((0,dd), width = 50, height = 1, color='y', label='imputed data', alpha=.05)\n",
    "            ax.add_patch(rect)\n",
    "\n",
    "        ax.set_xticks(range(1,len(glu_conc_bins),4))\n",
    "        ax.set_xticklabels(glu_conc_bins[1:len(glu_conc_bins):4], fontsize=16)\n",
    "        ax.set_yticks(range(0,91,5))\n",
    "        ax.set_yticklabels(range(0,91,5), fontsize=16)\n",
    "        plt.legend(labels=['Imputed data'])\n",
    "        plt.title(\"Pt_{:1.0f}'s temporal GLU PDF\\n aligned to day {}\".format(PtID, test_day))\n",
    "        plt.show()\n",
    "        \n",
    "    return gluPDF_90d\n",
    "\n",
    "subjectDropdown = Dropdown(options=CGM['PtID'].unique(), value=5)\n",
    "test_day_slider = IntSlider(value=180, min=90, max=330, step=1, continuous_update=False, layout=Layout(width='65%', height='80px'))\n",
    "showPlotCheckbox= Checkbox(value=True)\n",
    "interactive(get90DayCGMdata,\n",
    "           PtID=subjectDropdown,\n",
    "           test_day= test_day_slider, \n",
    "           showPlot = showPlotCheckbox)\n",
    "\n",
    "# gluPDF_90d = get90DayCGMdata(PtID=5, test_day=150, showPlot=True) \n"
   ]
  },
  {
   "cell_type": "markdown",
   "metadata": {},
   "source": [
    "## Modeling: \n",
    "#### Goal\n",
    "* Estimate $f$: <br>\n",
    "<center> $\\Large HbA1c = f(\\textbf{gluPDs}) $ <br>\n",
    "<br><br>, where \n",
    "<br>$\\Large \\textbf{gluPDs}$ $= \\begin{bmatrix}\n",
    "P([GLU])_{d_1g_1} & P([GLU])_{d_1g_2} & ... & P([GLU])_{d_1g_{36}}\\\\\n",
    "P([GLU])_{d_2g_1} & . & . & P([GLU])_{d_2g_36}\\\\\n",
    "\\vdots & . & . & \\vdots\\\\\n",
    "P([GLU])_{d_90g_1} & . & . & P([GLU])_{d_{90}g_{36}}\n",
    "\\end{bmatrix} $\n",
    "\n",
    "#### Assumptions \n",
    "* HbA1c levels are monotonically related to [GLU] (similar to Michaelis-Menten):\n",
    "    \n",
    "<center> $\\Large w_g \\; = \\; \\frac{1}{1+\\frac{k_m}{[GLU]}}$ , <br>\n",
    "    <br> where $\\small [GLU] = g_{bin} * 10 + 45 $ </center>"
   ]
  },
  {
   "cell_type": "code",
   "execution_count": 7,
   "metadata": {},
   "outputs": [],
   "source": [
    "glu_conc_bins = np.arange(45,400,10)\n",
    "km = 200\n",
    "def w_g_func(km = km, glu_conc_bins = glu_conc_bins):\n",
    "    return 1/(1+km/glu_conc_bins)"
   ]
  },
  {
   "cell_type": "markdown",
   "metadata": {},
   "source": [
    "* Glucose levels from the distant past have less influence on current HbA1c levels:\n",
    "\n",
    "<center> $\\Large w_d \\; = \\; e^{-\\frac{d-1}{\\tau}}$ </center> "
   ]
  },
  {
   "cell_type": "code",
   "execution_count": 8,
   "metadata": {},
   "outputs": [],
   "source": [
    "nDays = 90\n",
    "tau=45\n",
    "def w_d_func(tau = tau, nDays=nDays):\n",
    "    days = np.arange(1,nDays+1)\n",
    "    return np.exp(-(days-1)/tau)"
   ]
  },
  {
   "cell_type": "markdown",
   "metadata": {},
   "source": [
    "#### Temporal [GLU] weights:\n",
    "<center>\n",
    "$ \\textbf{W} (k_m, \\tau) = \n",
    "\\frac{\\begin{bmatrix}\n",
    "w_{d_1}w_{g_1} & w_{d_1}w_{g_2} & ... & w_{d_1}w_{g_{36}}\\\\\n",
    "w_{d_2}w_{g_1} & . & . & w_{d_2}w_{g_{36}}\\\\\n",
    "\\vdots & . & . & \\vdots\\\\\n",
    "w_{d_{90}}w_{g_1} & . & . & w_{d_90}w_{g_{36}}\n",
    "\\end{bmatrix}}{\\sum\\limits_{d=1}^{90}\\sum\\limits_{g=1}^{36} w_d*w_g} $\n",
    "</center>"
   ]
  },
  {
   "cell_type": "code",
   "execution_count": 9,
   "metadata": {},
   "outputs": [],
   "source": [
    "def W_func(km = km, tau = tau):\n",
    "    w_d = w_d_func(tau = tau)\n",
    "    w_g = w_g_func(km = km)\n",
    "    W = np.zeros((len(w_d), len(w_g)))\n",
    "    for d in range(len(w_d)):\n",
    "        W[d,:] = w_g*w_d[d]\n",
    "    return W/np.sum(W)"
   ]
  },
  {
   "cell_type": "markdown",
   "metadata": {},
   "source": [
    "#### Viz of how km and tau affects W"
   ]
  },
  {
   "cell_type": "code",
   "execution_count": 10,
   "metadata": {},
   "outputs": [
    {
     "data": {
      "application/vnd.jupyter.widget-view+json": {
       "model_id": "50a57b74d1bb42e2bbe8205cea0e54a5",
       "version_major": 2,
       "version_minor": 0
      },
      "text/plain": [
       "interactive(children=(IntSlider(value=150, continuous_update=False, description='km', max=490, min=20), IntSli…"
      ]
     },
     "metadata": {},
     "output_type": "display_data"
    }
   ],
   "source": [
    "def plotW(km=km, tau=tau):      \n",
    "    fig=plt.figure(figsize=(12,8))\n",
    "    grid= plt.GridSpec(2,3)\n",
    "    w_g_ax = fig.add_subplot(grid[0, 0])\n",
    "    w_d_ax = fig.add_subplot(grid[1, 0])\n",
    "    W_ax = fig.add_subplot(grid[:, 1:])\n",
    "    \n",
    "    w_g=w_g_func(km=km)\n",
    "    w_g_ax.plot(glu_conc_bins, w_g)\n",
    "    w_g_ax.set_ylim([0,1])\n",
    "    w_g_ax.set_xlabel('[GLU]', fontsize=16)\n",
    "    w_g_ax.set_ylabel('weight    or\\nrel. rate of Hb glycation', fontsize=16)\n",
    "    \n",
    "    days = np.arange(1,nDays+1)\n",
    "    w_d=w_d_func(tau=tau)\n",
    "    w_d_ax.plot(days, w_d)\n",
    "    w_d_ax.set_xlabel('days preceding test', fontsize=16)\n",
    "    w_d_ax.set_ylabel(\"weight     or\\n rel. influence on HbA1c test\", fontsize=16)\n",
    "\n",
    "    sns.heatmap(W_func(km=km, tau=tau), ax = W_ax)\n",
    "    W_ax.set_xticks(range(1,len(glu_conc_bins),4))\n",
    "    W_ax.set_xticklabels(glu_conc_bins[1:len(glu_conc_bins):4], fontsize=16)\n",
    "    W_ax.set_yticks(range(0,nDays+1,5))\n",
    "    W_ax.set_yticklabels(range(0,nDays+1,5), fontsize=16)\n",
    "    W_ax.set_xlabel('[GLU]', fontsize=16)\n",
    "    W_ax.set_ylabel('Days from HbA1c test', fontsize=16)\n",
    "    W_ax.set_title('Temporal [GLU] weights (W)', fontsize=24)\n",
    "    plt.tight_layout()\n",
    "    plt.show()\n",
    "    return\n",
    " \n",
    "km_slider=IntSlider(value=150, min=20, max=490, continuous_update=False)\n",
    "tau_slider=IntSlider(value=50, min=5, max=120, continuous_update=False)\n",
    "interactive(plotW,\n",
    "           km=km_slider,\n",
    "           tau=tau_slider)\n",
    "#     grid = plt.GridSpec(4, 4)\n"
   ]
  },
  {
   "cell_type": "markdown",
   "metadata": {},
   "source": [
    "<center> $ \\large{Hba1c}(k_m, \\tau) = \\beta_0 + \\beta_1 \\textbf{W} (k_m, \\tau) \\circ \\textbf{gluPDs} + \\epsilon$ \n",
    "<br><br><br><br>\n",
    "<center> $ \\large{Hba1c}(k_m, \\tau) = \\beta_0 + \\beta_1 vec(\\textbf{W}) \\cdot vec(\\textbf{gluPDs}) + \\epsilon $ </center>"
   ]
  },
  {
   "cell_type": "markdown",
   "metadata": {},
   "source": [
    "### Determine:\n",
    "\n",
    "<center> $ \\Large argmin_{𝑘𝑚,𝜏, 𝛽_0,𝛽_1}\\sum\\limits_{i=1}^{N}𝜖^2$\n",
    "<br>, where N = # of HbA1c tests\n",
    "\n",
    "    "
   ]
  },
  {
   "cell_type": "markdown",
   "metadata": {},
   "source": [
    "# Machine Learning (linear model) "
   ]
  },
  {
   "cell_type": "markdown",
   "metadata": {},
   "source": [
    "### Create feature matrix and target vector:"
   ]
  },
  {
   "cell_type": "code",
   "execution_count": 11,
   "metadata": {},
   "outputs": [
    {
     "name": "stdout",
     "output_type": "stream",
     "text": [
      "# of Target variables:  448\n",
      "Size of Feature matrix:  (441, 3240)\n",
      "Size of target vector:  441\n"
     ]
    }
   ],
   "source": [
    "if os.path.exists('Data/ML.p'):\n",
    "    [X,y] = pickle.load(open(\"Data/ML.p\", \"rb\"))\n",
    "else:\n",
    "    start_time = timeit.default_timer()\n",
    "    X = np.zeros((len(HbA1c_results), 90*36))\n",
    "    for i in range(len(HbA1c_results)):\n",
    "        PtID = HbA1c_results['PtID'].iloc[i]\n",
    "        test_day = HbA1c_results['Day'].iloc[i]\n",
    "        X[i,:] = get90DayCGMdata(PtID=PtID, test_day=test_day).ravel()\n",
    "    y = HbA1c_results.HbA1c\n",
    "    # Some of the CGM data was missing... so remove those!\n",
    "    y = y[X.sum(axis=1)!=0].to_numpy()\n",
    "    X = X[X.sum(axis=1)!=0].to_numpy()\n",
    "    \n",
    "    elapsed = timeit.default_timer() - start_time\n",
    "    pickle.dump([X,y], open(\"Data/ML.p\", \"wb\"))\n",
    "    print('Created feature matrix! It took {:.2f}s'.format(elapsed))\n",
    "    \n",
    "print('# of Target variables: ', len(HbA1c_results))\n",
    "print('Size of Feature matrix: ', X.shape)\n",
    "print('Size of target vector: ', len(y))\n"
   ]
  },
  {
   "cell_type": "markdown",
   "metadata": {},
   "source": [
    "#### Shufffle and split data into training and test sets:"
   ]
  },
  {
   "cell_type": "code",
   "execution_count": 12,
   "metadata": {},
   "outputs": [],
   "source": [
    "X_train, X_test, y_train, y_test = train_test_split(X, y, test_size=0.25, random_state=1)"
   ]
  },
  {
   "cell_type": "markdown",
   "metadata": {},
   "source": [
    "## Determine optimal set of parameters by minimizing loss function"
   ]
  },
  {
   "cell_type": "markdown",
   "metadata": {},
   "source": [
    "### Perform grid search for 𝛕 and km: "
   ]
  },
  {
   "cell_type": "code",
   "execution_count": 13,
   "metadata": {},
   "outputs": [],
   "source": [
    "def mse(p):\n",
    "    km=p[0]\n",
    "    tau=p[1]\n",
    "    lm = sm.OLS(y_train, exog=sm.add_constant(X_train.dot(W_func(km=km,tau=tau).ravel())))\n",
    "    res = lm.fit()\n",
    "    return res.mse_resid\n",
    "\n",
    "kms = np.arange(50, 1000, 1)\n",
    "taus = np.arange(10, 100,1)\n",
    "\n",
    "# 29.34, 490.45\n",
    "tau_grid, km_grid = np.meshgrid(taus, kms)\n",
    "zgrid = np.zeros((len(kms), len(taus)))\n",
    "for i, km in enumerate(kms):\n",
    "    for j, tau in enumerate(taus):\n",
    "        zgrid[i,j] = mse([km,tau])"
   ]
  },
  {
   "cell_type": "markdown",
   "metadata": {},
   "source": [
    "#### Visualize the results of the grid search"
   ]
  },
  {
   "cell_type": "code",
   "execution_count": 17,
   "metadata": {},
   "outputs": [
    {
     "data": {
      "application/vnd.jupyter.widget-view+json": {
       "model_id": "82eab8668faa4811a07cd2b787a95b2f",
       "version_major": 2,
       "version_minor": 0
      },
      "text/plain": [
       "interactive(children=(IntSlider(value=45, continuous_update=False, description='a', max=90, min=30), IntSlider…"
      ]
     },
     "metadata": {},
     "output_type": "display_data"
    }
   ],
   "source": [
    "mpl.rc('xtick', labelsize=12) \n",
    "mpl.rc('ytick', labelsize=12) \n",
    "\n",
    "def d3plot(a=45,b=-45):\n",
    "    fig = plt.figure(figsize=(15,7.5))\n",
    "    ax1 = fig.add_subplot(121, projection='3d')\n",
    "    ax1.view_init(a, b)\n",
    "#     ax1.plot_surface(tau_grid, km_grid, zgrid, cmap='terrain')\n",
    "    ax1.plot_wireframe(tau_grid, km_grid, zgrid, cmap='terrain')\n",
    "    \n",
    "    \n",
    "    ax2= fig.add_subplot(122)\n",
    "    ax2.contourf(tau_grid, km_grid, zgrid, cmap='terrain')\n",
    "    loc = np.where(zgrid == np.amin(zgrid))\n",
    "    ax2.scatter(tau_grid[loc], km_grid[loc], color='white')\n",
    "    \n",
    "    ax2.set_xlabel('tau', fontsize=18)\n",
    "    ax2.set_ylabel('km', fontsize=18)\n",
    "    ax2.set_title('MSE countour plot', fontsize=24)\n",
    "        \n",
    "        \n",
    "    ax1.set_xlabel('tau', fontsize=18)\n",
    "    ax1.set_ylabel('km', fontsize=18)\n",
    "    ax1.set_zlabel('mse', fontsize=20)\n",
    "    ax1.set_title('Grid search for tau and km', fontsize=24)\n",
    "    plt.tight_layout()\n",
    "    plt.show()\n",
    "    \n",
    "a_slider = IntSlider(value=45, min=30, max = 90, continuous_update=False)\n",
    "b_slider = IntSlider(value=-45, min=-60, max = 45, continuous_update=False)\n",
    "interactive(d3plot,\n",
    "           a= a_slider,\n",
    "           b= b_slider)\n"
   ]
  },
  {
   "cell_type": "markdown",
   "metadata": {},
   "source": [
    "Unfortunately, there doesn't seem to be a great unique solution for km. There is a very flat loss landscape. \n",
    "\n",
    "\n",
    "### Bootstrap estimated for 𝛕 after assuming km=800 mg/dL  : "
   ]
  },
  {
   "cell_type": "code",
   "execution_count": 20,
   "metadata": {},
   "outputs": [
    {
     "name": "stdout",
     "output_type": "stream",
     "text": [
      "𝛕 : 31.69 ± 0.44\n"
     ]
    }
   ],
   "source": [
    "rs=ShuffleSplit(n_splits=100, train_size=.8)\n",
    "tau_results =  []\n",
    "for train_idxs, cval_idxs in rs.split(y_train):\n",
    "    X_train_tmp = X_train[train_idxs]\n",
    "    y_train_tmp = y_train[train_idxs]\n",
    "    def mse(p):\n",
    "        tau=p[0]\n",
    "        km=800\n",
    "        lm = sm.OLS(y_train_tmp, exog=sm.add_constant(X_train_tmp.dot(W_func(km=km,tau=tau).ravel())))\n",
    "        res = lm.fit()\n",
    "        return res.mse_resid\n",
    "    res2 = minimize(mse, [20], method='Nelder-Mead', options={'ftol': 1e-7, 'disp': False})\n",
    "    tau_results.append(res2.x)\n",
    "print('𝛕 : {:.2f} ± {:.2f}'.format(np.mean(tau_results), np.std(tau_results)/np.sqrt(len(tau_results))))\n"
   ]
  },
  {
   "cell_type": "markdown",
   "metadata": {},
   "source": [
    "Next, estimate $\\beta_0 \\; and \\; \\beta_1$"
   ]
  },
  {
   "cell_type": "code",
   "execution_count": 21,
   "metadata": {},
   "outputs": [
    {
     "name": "stdout",
     "output_type": "stream",
     "text": [
      "beta0 : 2.22\n",
      "beta1: 220.00\n"
     ]
    },
    {
     "data": {
      "text/html": [
       "<table class=\"simpletable\">\n",
       "<caption>OLS Regression Results</caption>\n",
       "<tr>\n",
       "  <th>Dep. Variable:</th>            <td>y</td>        <th>  R-squared:         </th> <td>   0.600</td>\n",
       "</tr>\n",
       "<tr>\n",
       "  <th>Model:</th>                   <td>OLS</td>       <th>  Adj. R-squared:    </th> <td>   0.599</td>\n",
       "</tr>\n",
       "<tr>\n",
       "  <th>Method:</th>             <td>Least Squares</td>  <th>  F-statistic:       </th> <td>   492.0</td>\n",
       "</tr>\n",
       "<tr>\n",
       "  <th>Date:</th>             <td>Thu, 21 May 2020</td> <th>  Prob (F-statistic):</th> <td>3.11e-67</td>\n",
       "</tr>\n",
       "<tr>\n",
       "  <th>Time:</th>                 <td>20:42:10</td>     <th>  Log-Likelihood:    </th> <td> -200.09</td>\n",
       "</tr>\n",
       "<tr>\n",
       "  <th>No. Observations:</th>      <td>   330</td>      <th>  AIC:               </th> <td>   404.2</td>\n",
       "</tr>\n",
       "<tr>\n",
       "  <th>Df Residuals:</th>          <td>   328</td>      <th>  BIC:               </th> <td>   411.8</td>\n",
       "</tr>\n",
       "<tr>\n",
       "  <th>Df Model:</th>              <td>     1</td>      <th>                     </th>     <td> </td>   \n",
       "</tr>\n",
       "<tr>\n",
       "  <th>Covariance Type:</th>      <td>nonrobust</td>    <th>                     </th>     <td> </td>   \n",
       "</tr>\n",
       "</table>\n",
       "<table class=\"simpletable\">\n",
       "<tr>\n",
       "    <td></td>       <th>coef</th>     <th>std err</th>      <th>t</th>      <th>P>|t|</th>  <th>[0.025</th>    <th>0.975]</th>  \n",
       "</tr>\n",
       "<tr>\n",
       "  <th>const</th> <td>    2.2235</td> <td>    0.218</td> <td>   10.179</td> <td> 0.000</td> <td>    1.794</td> <td>    2.653</td>\n",
       "</tr>\n",
       "<tr>\n",
       "  <th>x1</th>    <td>  219.9976</td> <td>    9.918</td> <td>   22.181</td> <td> 0.000</td> <td>  200.486</td> <td>  239.509</td>\n",
       "</tr>\n",
       "</table>\n",
       "<table class=\"simpletable\">\n",
       "<tr>\n",
       "  <th>Omnibus:</th>       <td>31.644</td> <th>  Durbin-Watson:     </th> <td>   2.062</td>\n",
       "</tr>\n",
       "<tr>\n",
       "  <th>Prob(Omnibus):</th> <td> 0.000</td> <th>  Jarque-Bera (JB):  </th> <td>  82.263</td>\n",
       "</tr>\n",
       "<tr>\n",
       "  <th>Skew:</th>          <td>-0.435</td> <th>  Prob(JB):          </th> <td>1.37e-18</td>\n",
       "</tr>\n",
       "<tr>\n",
       "  <th>Kurtosis:</th>      <td> 5.286</td> <th>  Cond. No.          </th> <td>    405.</td>\n",
       "</tr>\n",
       "</table><br/><br/>Warnings:<br/>[1] Standard Errors assume that the covariance matrix of the errors is correctly specified."
      ],
      "text/plain": [
       "<class 'statsmodels.iolib.summary.Summary'>\n",
       "\"\"\"\n",
       "                            OLS Regression Results                            \n",
       "==============================================================================\n",
       "Dep. Variable:                      y   R-squared:                       0.600\n",
       "Model:                            OLS   Adj. R-squared:                  0.599\n",
       "Method:                 Least Squares   F-statistic:                     492.0\n",
       "Date:                Thu, 21 May 2020   Prob (F-statistic):           3.11e-67\n",
       "Time:                        20:42:10   Log-Likelihood:                -200.09\n",
       "No. Observations:                 330   AIC:                             404.2\n",
       "Df Residuals:                     328   BIC:                             411.8\n",
       "Df Model:                           1                                         \n",
       "Covariance Type:            nonrobust                                         \n",
       "==============================================================================\n",
       "                 coef    std err          t      P>|t|      [0.025      0.975]\n",
       "------------------------------------------------------------------------------\n",
       "const          2.2235      0.218     10.179      0.000       1.794       2.653\n",
       "x1           219.9976      9.918     22.181      0.000     200.486     239.509\n",
       "==============================================================================\n",
       "Omnibus:                       31.644   Durbin-Watson:                   2.062\n",
       "Prob(Omnibus):                  0.000   Jarque-Bera (JB):               82.263\n",
       "Skew:                          -0.435   Prob(JB):                     1.37e-18\n",
       "Kurtosis:                       5.286   Cond. No.                         405.\n",
       "==============================================================================\n",
       "\n",
       "Warnings:\n",
       "[1] Standard Errors assume that the covariance matrix of the errors is correctly specified.\n",
       "\"\"\""
      ]
     },
     "execution_count": 21,
     "metadata": {},
     "output_type": "execute_result"
    }
   ],
   "source": [
    "X_sm = sm.add_constant(X_train.dot(W_func(km=800,tau=np.mean(tau_results)).ravel()))\n",
    "# X_sm = X_train.dot(W_func(km=28.83,tau=219.41).ravel())\n",
    "lm = sm.OLS(y_train, exog=X_sm, hasconst = True)\n",
    "res = lm.fit()\n",
    "beta0 = res.params[0] \n",
    "beta1 = res.params[1]\n",
    "print('beta0 : {:.2f}'.format(beta0))\n",
    "print('beta1: {:.2f}'.format(beta1))\n",
    "res.summary()"
   ]
  },
  {
   "cell_type": "markdown",
   "metadata": {},
   "source": [
    "# Final model: \n",
    "<center> $ \\large{Hba1c} \\approx 2.23 + 219.82 \\textbf{W} (k_m=800, \\tau = 30.84) \\circ \\textbf{gluPDs} + \\epsilon$ \n"
   ]
  },
  {
   "cell_type": "code",
   "execution_count": 22,
   "metadata": {},
   "outputs": [
    {
     "data": {
      "image/png": "[encoded data removed]",
      "text/plain": [
       "<Figure size 576x576 with 1 Axes>"
      ]
     },
     "metadata": {
      "needs_background": "light"
     },
     "output_type": "display_data"
    }
   ],
   "source": [
    "X_test_transformed = X_test.dot(W_func(km=500,tau=np.mean(tau_results)).ravel())\n",
    "X_train_transformed = X_train.dot(W_func(km=500,tau=np.mean(tau_results)).ravel())\n",
    "plt.figure(figsize=(8,8))\n",
    "plt.scatter(beta0 + beta1* X_train_transformed, y_train,color='blue', marker='.', alpha=.2 , \n",
    "            label=\"Training set R^2 = {:.2f}\".format(r2_score(y_train, beta0 + beta1* X_train_transformed)))\n",
    "plt.scatter(beta0 + beta1* X_test_transformed, y_test,color='red', marker='.', \n",
    "            label=\"Validation set R^2 = {:.2f}\".format(r2_score(y_test, beta0 + beta1* X_test_transformed)))\n",
    "# plt.scatter(X_sm, y_train,color='red')\n",
    "plt.plot(np.linspace(4.5,10,10),np.linspace(4.5,10,10),linestyle='--', color='grey')\n",
    "plt.xlabel(\"Predicted [HbA1c]\", fontsize=18)\n",
    "plt.ylabel(\"Actual [HbA1c]\", fontsize=18)\n",
    "plt.title(\"True HbA1c vs predicted HbA1c\", fontsize=24)\n",
    "plt.legend(fontsize=16)\n",
    "plt.show()"
   ]
  },
  {
   "cell_type": "markdown",
   "metadata": {},
   "source": [
    "# End of presentation"
   ]
  },
  {
   "cell_type": "code",
   "execution_count": null,
   "metadata": {},
   "outputs": [],
   "source": []
  },
  {
   "cell_type": "code",
   "execution_count": null,
   "metadata": {},
   "outputs": [],
   "source": []
  },
  {
   "cell_type": "code",
   "execution_count": null,
   "metadata": {},
   "outputs": [],
   "source": []
  },
  {
   "cell_type": "code",
   "execution_count": null,
   "metadata": {},
   "outputs": [],
   "source": []
  },
  {
   "cell_type": "code",
   "execution_count": null,
   "metadata": {},
   "outputs": [],
   "source": []
  },
  {
   "cell_type": "code",
   "execution_count": null,
   "metadata": {},
   "outputs": [],
   "source": []
  },
  {
   "cell_type": "code",
   "execution_count": null,
   "metadata": {},
   "outputs": [],
   "source": []
  },
  {
   "cell_type": "code",
   "execution_count": null,
   "metadata": {},
   "outputs": [],
   "source": []
  },
  {
   "cell_type": "markdown",
   "metadata": {},
   "source": [
    "## 99) Exploratory Data Analysis"
   ]
  },
  {
   "cell_type": "markdown",
   "metadata": {},
   "source": [
    "### Wrangle the patient associated data\n",
    "(Demographic data, Medical conditions, HbA1c test results, CGM, and BGM data)"
   ]
  },
  {
   "cell_type": "code",
   "execution_count": null,
   "metadata": {},
   "outputs": [],
   "source": [
    "## First gather all the patient associated data (except for the glucose measurements): \n",
    "\n",
    "if os.path.exists('Data/ReplaceBG_1.p'):\n",
    "    [patientData, medicalConditions, commonMedCond_counts, medications, commonMed_counts, edu_order, inc_order, excludeIds, HbA1c] = pickle.load(open(\"data/ReplaceBG_1.p\", \"rb\"))\n",
    "else: \n",
    "    ptWithdrawal = pd.read_csv('Data/HPostRandPtFinalStatus.txt',delimiter='|')\n",
    "    excludeIds = list(ptWithdrawal.PtID.unique())\n",
    "#     excludeIds.append(91) # Didn't have Week26 HbA1c\n",
    "\n",
    "    patientMeta=pd.read_csv('Data/HPtRoster.txt', delimiter='|')\n",
    "    patientMeta = patientMeta[patientMeta.PtID.apply(lambda x: x not in excludeIds)]\n",
    "    patientMeta.drop(columns=['RecID', 'SiteOrig', 'SiteID', 'RandDtDaysAfterEnroll','PtStatus'], inplace=True)\n",
    "    patientMeta.columns = ['PtID', 'TrtGroup', 'Age']\n",
    "\n",
    "    screening = pd.read_csv('Data/HScreening.txt',delimiter='|') # This also contains demographic information\n",
    "    screening = screening[screening.PtID.apply(lambda x: x not in excludeIds)]\n",
    "    screening = screening[['PtID', 'EduLevel', 'Gender', 'Race', 'DiagAge', 'AnnualInc', 'Weight', 'Height']]\n",
    "    screening['BMI'] = screening.Weight/(screening.Height*.01)**2\n",
    "    edu_order = ['High school graduate/diploma/GED',\n",
    "     'Some college but no degree',\n",
    "     'Associate Degree',\n",
    "     \"Bachelor's Degree\",\n",
    "     \"Master's Degree\",\n",
    "     'Professional Degree',\n",
    "     'Doctorate Degree']\n",
    "\n",
    "    inc_order = ['Less than $25,000',\n",
    "                 '$25,000 - $35,000',\n",
    "                 '$35,000 - less than $50,000',\n",
    "                 '$50,000 - less than $75,000',\n",
    "                 '$75,000 - less than $100,000',\n",
    "                 '$100,000 - less than $200,000', \n",
    "                 '$200,000 or more']\n",
    "\n",
    "    edu_type = CategoricalDtype(categories=edu_order, ordered=True)\n",
    "    inc_type = CategoricalDtype(categories=inc_order, ordered=True)\n",
    "\n",
    "    screening['EduLevel'] = screening.EduLevel.astype(edu_type)\n",
    "    screening['AnnualInc'] = screening.AnnualInc.astype(inc_type)\n",
    "\n",
    "    HbA1c = pd.read_csv('Data/HLocalHbA1c.txt',delimiter='|')\n",
    "    HbA1c = HbA1c[HbA1c.PtID.apply(lambda x: x not in excludeIds)]\n",
    "    HbA1c = HbA1c.pivot(index='PtID', columns='Visit', values=['HbA1cTestRes', 'HbA1cTestDtDaysAfterEnroll']).reset_index()\n",
    "    HbA1c.columns = HbA1c.columns.to_flat_index()\n",
    "    HbA1c.columns = ['PtID', 'Randomization_HbA1c', 'Screening_HbA1c','Week13_HbA1c', 'Week26_HbA1c',\n",
    "           'Randomization_HbA1c_day','Screening_HbA1c_day','Week13_HbA1c_day', 'Week26_HbA1c_day']\n",
    "    \n",
    "     # Medical conditions:\n",
    "    medicalConditions = pd.read_csv('Data/HMedicalCondition.txt',delimiter='|')\n",
    "    medicalConditions = medicalConditions[medicalConditions.PtId.apply(lambda x: x not in excludeIds)]\n",
    "    commonMedCond_counts = pd.DataFrame(medicalConditions.groupby('MedCond').count()['PtId'].sort_values(ascending=False))\n",
    "    commonMedCond_counts.columns=['Count']\n",
    "    commonMedCond_counts = commonMedCond_counts.query('Count > 15').reset_index()\n",
    "    commonMedCond_names = commonMedCond_counts.MedCond.values\n",
    "    medicalConditions = medicalConditions[medicalConditions['MedCond'].apply(lambda x: x in commonMedCond_names)]\n",
    "    medicalConditions = medicalConditions[['PtId', 'MedCond']].sort_values('PtId').reset_index(drop=True)\n",
    "    medicalConditions.columns=['PtID', 'MedCond']\n",
    "\n",
    "    # Medications: \n",
    "    medications = pd.read_csv('Data/HMedication.txt',delimiter='|')\n",
    "    medications = medications[medications.PtID.apply(lambda x: x not in excludeIds)]\n",
    "    medications = medications[['PtID', 'DrugName']]\n",
    "    commonMed_counts = pd.DataFrame(medications.groupby('DrugName').count()['PtID'].sort_values(ascending=False))\n",
    "    commonMed_counts.columns=['Count']\n",
    "    commonMed_counts = commonMed_counts.query('Count > 15').reset_index()\n",
    "    commonMed_names = commonMed_counts.DrugName.values\n",
    "    medications = medications[medications['DrugName'].apply(lambda x: x in commonMed_names)].sort_values('PtID').reset_index(drop=True)\n",
    "\n",
    "    patientData = patientMeta.merge(screening, on='PtID').merge(HbA1c).sort_values('PtID').reset_index(drop=True)\n",
    "\n",
    "    # Supplement Patient Data with Medical conditions: \n",
    "    for cond in commonMedCond_names:\n",
    "        patientData[cond]=[False]*len(patientData)\n",
    "    for cond in commonMedCond_names:\n",
    "        for idx,pt in enumerate(patientData.PtID.unique()):\n",
    "            patientData[cond].iloc[idx] = int(np.any(medicalConditions[medicalConditions['PtID']==pt].MedCond==cond))\n",
    "    \n",
    "    # Supplement Patient Data with Medication usage: \n",
    "    for drug in commonMed_names:\n",
    "        patientData[drug]=[False]*len(patientData)\n",
    "    for drug in commonMed_names:\n",
    "        for idx,pt in enumerate(patientData.PtID.unique()):\n",
    "            patientData[drug].iloc[idx] = int(np.any(medications[medications['PtID']==pt].DrugName==drug))\n",
    "\n",
    "    # Add Race dummy variables: \n",
    "    patientData = pd.concat([patientData, pd.get_dummies(patientData['Race'])], axis=1,sort=False)\n",
    "    patientData.drop(columns=['Race'], inplace=True)\n",
    "    pickle.dump([patientData, medicalConditions, commonMedCond_counts, medications, commonMed_counts, edu_order, inc_order, excludeIds,HbA1c], open(\"Data/ReplaceBG_1.p\", \"wb\"))\n",
    "print('Features:', ', '.join(patientData.columns))\n",
    "patientData.head()"
   ]
  },
  {
   "cell_type": "markdown",
   "metadata": {},
   "source": [
    "### A) The relationship between HbA1c and features in the dataset"
   ]
  },
  {
   "cell_type": "code",
   "execution_count": null,
   "metadata": {
    "scrolled": false
   },
   "outputs": [],
   "source": [
    "fig, ax = plt.subplots(2,3, figsize=(12,12))\n",
    "# A) BMI:\n",
    "ax[0][0].set_title('A)   HbA1c vs. BMI')\n",
    "slope, intercept, r_value, p_value, std_err = stats.linregress(df['BMI'],df['Week26_HbA1c'])\n",
    "sns.regplot(x='BMI', y='Week26_HbA1c', data = df, line_kws={'label': 'p={:.5f}'.format(p_value)}, ax=ax[0][0]) \n",
    "ax[0][0].legend()\n",
    "\n",
    "# B) Age:\n",
    "ax[0][1].set_title('B)   HbA1c vs. Age')\n",
    "slope, intercept, r_value, p_value, std_err = stats.linregress(df['Age'],df['Week26_HbA1c'])\n",
    "sns.regplot(x='Age', y='Week26_HbA1c', data = df, line_kws={'label': 'p={:.5f}'.format(p_value)}, ax=ax[0][1]) \n",
    "ax[0][1].legend()\n",
    "\n",
    "# C) Medical conditions:\n",
    "ax[0][2].set_title('C)  HbA1c vs. Medical Condition')\n",
    "df_temp = medicalConditions.merge(df[['PtID','Week26_HbA1c']], on='PtID', how='left').dropna()\n",
    "groupVals=[]\n",
    "for i, med in enumerate(commonMedCond_counts.MedCond.values):\n",
    "    groupVals.append(df_temp[df_temp['MedCond']==commonMedCond_counts.MedCond.values[i]]['Week26_HbA1c'])\n",
    "F_value, p_value = stats.f_oneway(*groupVals)\n",
    "sns.barplot(x='MedCond', y='Week26_HbA1c', data = df_temp, label='p={:.5f}'.format(p_value),ax=ax[0][2])\n",
    "plt.setp(ax[0][2].get_xticklabels(), rotation=75, ha=\"right\", rotation_mode=\"anchor\")\n",
    "ax[0][2].annotate('p={:.5f}'.format(p_value), (6,7.7))\n",
    "ax[0][2].set_xlabel(None)\n",
    "ax[0][2].set_ylim([6,8])\n",
    "\n",
    "# D) Medication:\n",
    "ax[1][2].set_title('F)   HbA1c vs. Medication')\n",
    "df_temp = medications.merge(df[['PtID','Week26_HbA1c']], on='PtID', how='left').dropna()\n",
    "groupVals=[]\n",
    "for i, med in enumerate(commonMed_counts.DrugName.values):\n",
    "    groupVals.append(df_temp[df_temp['DrugName']==commonMed_counts.DrugName.values[i]]['Week26_HbA1c'])\n",
    "F_value, p_value = stats.f_oneway(*groupVals)\n",
    "sns.barplot(x='DrugName', y='Week26_HbA1c', data = df_temp, label='p={:.5f}'.format(p_value),ax=ax[1][2])\n",
    "plt.setp(ax[1][2].get_xticklabels(), rotation=75, ha=\"right\", rotation_mode=\"anchor\")\n",
    "ax[1][2].annotate('p={:.5f}'.format(p_value), (5,7.7))\n",
    "ax[1][2].set_xlabel(None)\n",
    "ax[1][2].set_ylim([6,8])\n",
    "\n",
    "# Education level:\n",
    "ax[1][0].set_title('D)   HbA1c vs. Education')\n",
    "groupVals=[]\n",
    "for i, med in enumerate(edu_order):\n",
    "    groupVals.append(df[df['EduLevel']==edu_order[i]]['Week26_HbA1c'])\n",
    "\n",
    "H_value, p_value = stats.kruskal(*groupVals)\n",
    "sns.barplot(x='EduLevel', y='Week26_HbA1c', data = df, ax=ax[1][0])\n",
    "sns.regplot(x=np.arange(0,len(inc_order)), y=df.groupby('EduLevel').mean()['Week26_HbA1c'], \n",
    "            ax=ax[1][0])\n",
    "ax[1][0].annotate('p={:.5f}'.format(p_value), (4,7.7))\n",
    "plt.setp(ax[1][0].get_xticklabels(), rotation=75, ha=\"right\", rotation_mode=\"anchor\")\n",
    "ax[1][0].set_ylim([6,8])\n",
    "ax[1][0].set_xlabel(None)\n",
    "\n",
    "# Annual Income:\n",
    "ax[1][1].set_title('E)  HbA1c vs. Income')\n",
    "groupVals=[]\n",
    "for i, med in enumerate(inc_order):\n",
    "    groupVals.append(df[df['AnnualInc']==inc_order[i]]['Week26_HbA1c'])\n",
    "H_value, p_value = stats.kruskal(*groupVals)\n",
    "sns.barplot(x='AnnualInc', y='Week26_HbA1c', data = df, ax=ax[1][1], label='p={:.5f}'.format(p_value))\n",
    "sns.regplot(x=np.arange(0,len(inc_order)), y=df.groupby('AnnualInc').mean()['Week26_HbA1c'], \n",
    "            ax=ax[1][1])\n",
    "ax[1][1].annotate('p={:.5f}'.format(p_value), (4,7.7))\n",
    "plt.setp(ax[1][1].get_xticklabels(), rotation=75, ha=\"right\", rotation_mode=\"anchor\")\n",
    "ax[1][1].set_ylim([6,8])\n",
    "ax[1][1].set_xlabel(None)\n",
    "\n",
    "plt.tight_layout()\n",
    "plt.show()"
   ]
  },
  {
   "cell_type": "markdown",
   "metadata": {},
   "source": [
    "A) BMI is correlated with HbA1c levels (p=0.03086)\n",
    "B) Age does not seem to be related to HbA1c levels (p=0.6833)\n",
    "C) There are slight variations in HbA1c levels across patients with different pre-existing conditions, but overall there wasn't anything significant. (p=0.7180: one-way ANOVA)\n",
    "D) Education tends to be negatively associated with HbA1c levels, suggesting better glucose control in more educated populations. (p=0.11134: Kruskal-Wallis test)\n",
    "E) Income was also negatively correlated with HbA1c levels, but this wasn't statistically significant. (p=0.85629: Kruskal-Wallis test)\n",
    "C) There are slight variations in HbA1c levels across patients with using different medications, but overall there wasn't anything significant. (p=0.45893: one-way ANOVA)"
   ]
  },
  {
   "cell_type": "markdown",
   "metadata": {},
   "source": [
    "### B) Train a basic linear model and Lasso regression model to predict HbA1c using non-CGM data"
   ]
  },
  {
   "cell_type": "code",
   "execution_count": null,
   "metadata": {},
   "outputs": [],
   "source": [
    "y = df['Week26_HbA1c']\n",
    "X = df[['Age', 'EduLevel', 'Gender', 'DiagAge',\n",
    "       'AnnualInc', 'BMI', 'Hyperlipidemia', 'Hypertension',\n",
    "       'Hypothyroidism', 'Depression', 'Vitamin D deficiency',\n",
    "                 'Lisinopril', 'Aspirin', 'Multivitamin preparation',\n",
    "       'Vitamin D', 'Simvastatin', 'Synthroid', 'levothyroxine', 'Lipitor',\n",
    "       'vitamin D3', 'atorvastatin',\n",
    "       'Seasonal allergy', 'Erectile dysfunction', 'Diabetic retinopathy',\n",
    "       'Obesity','Asian', 'Black/African American', 'More than one race', 'White']]\n",
    "# Exclude 1 race column to account for appropriate degrees of freedom\n",
    "\n",
    "# Convert Ordinal data to codes: \n",
    "X[['EduLevel', 'AnnualInc','Gender']] = X[['EduLevel', 'AnnualInc','Gender']].apply(lambda col:pd.Categorical(col).codes)\n",
    "\n",
    "X_sm = sm.add_constant(X[['Age', 'EduLevel', 'Gender', 'DiagAge', 'AnnualInc', 'BMI',\n",
    "   'Hyperlipidemia', 'Hypertension','Hypothyroidism', 'Depression', \n",
    "   'Vitamin D deficiency', 'Seasonal allergy', 'Erectile dysfunction', \n",
    "   'Diabetic retinopathy', 'Obesity','Lisinopril', 'Aspirin', 'Multivitamin preparation',\n",
    "       'Vitamin D', 'Simvastatin', 'Synthroid', 'levothyroxine', 'Lipitor',\n",
    "       'vitamin D3', 'atorvastatin', 'Asian', 'Black/African American',\n",
    "   'More than one race', 'White']])\n",
    "\n",
    "X_train, X_test, y_train, y_test = train_test_split(X.values, y, test_size=0.25, random_state=1)\n",
    "# X.columns\n",
    "\n",
    "linear_regr = LinearRegression()\n",
    "linear_regr.fit(X_train, y_train)\n",
    "plt.figure(figsize=(10,10))\n",
    "sns.regplot(y_test, linear_regr.predict(X_test),color='b', label='linear mse={:.4f}'.format(mean_squared_error(y_test, linear_regr.predict(X_test))))\n",
    "\n",
    "lasso_regr = LassoCV(cv=5, random_state=0)\n",
    "lasso_regr.fit(X_train, y_train)\n",
    "\n",
    "lasso_stats_regr = sm.OLS(y, X_sm)\n",
    "lasso_stats_regr_results = lasso_stats_regr.fit_regularized(method='elastic_net', alpha=lasso_regr.alpha_, L1_wt=1.0)\n",
    "print(lasso_stats_regr_results.params)\n",
    "# print(lasso_regr.alpha_)\n",
    "# print(lasso_regr.coef_)\n",
    "predict_regr =sm.OLS(y_test, sm.add_constant(lasso_regr.predict(X_test)))\n",
    "result = predict_regr.fit()\n",
    "\n",
    "sns.regplot(y_test, lasso_regr.predict(X_test),color='r', label='lasso mse={:.4f}, p={:.3f}'.format(mean_squared_error(y_test, lasso_regr.predict(X_test)), result.pvalues[1]))\n",
    "plt.annotate('$R^2=$' + '{:.4f}'.format(result.rsquared),(7.5,7.4),color='red')\n",
    "plt.plot(np.linspace(6.25,9,10),np.linspace(6.25,9,10), linestyle='--', color='k')\n",
    "# plt.xlim([6.25,8.75])\n",
    "# plt.ylim([6.25,8.75])\n",
    "plt.ylabel('Predicted [HbA1c] (mg/dL)',FontSize=18)\n",
    "plt.xlabel('True [HbA1c] (mg/dL)',FontSize=18)\n",
    "plt.legend(fontsize=18)\n",
    "plt.title(\"Linear models to predict HbA1c\", FontSize=24)\n",
    "plt.show()"
   ]
  },
  {
   "cell_type": "code",
   "execution_count": null,
   "metadata": {},
   "outputs": [],
   "source": [
    "fig = plt.figure(figsize=(15, 10))\n",
    "grid = plt.GridSpec(2, 3)\n",
    "main_ax = fig.add_subplot(grid[0, 1])\n",
    "sns.regplot(y_test, lasso_regr.predict(X_test),color='r', \n",
    "            label='lasso mse={:.4f}, p={:.3f}'.format(mean_squared_error(y_test, lasso_regr.predict(X_test)), result.pvalues[1]),\n",
    "           ax=main_ax)\n",
    "main_ax.xaxis.tick_top()\n",
    "main_ax.plot()\n",
    "main_ax.annotate('$R^2=$' + '{:.4f}'.format(result.rsquared),(7.5,7.4),color='red')\n",
    "main_ax.plot(np.linspace(6.25,8.25,10),np.linspace(6.25,8.25,10), linestyle='--', color='k')\n",
    "\n",
    "main_ax.set_xlabel(None)\n",
    "main_ax.set_ylabel('Predicted [HbA1c] (mg/dL)')\n",
    "main_ax.set_title('True [HbA1c] (mg/dL)')\n",
    "main_ax.set_xlim([6.25, 8.25])\n",
    "main_ax.set_ylim([6.25, 8.25])\n",
    "main_ax.table(cellText=list(zip(lasso_stats_regr_results.params.index, lasso_stats_regr_results.params)))\n",
    "main_ax.legend()\n",
    "plt.show()"
   ]
  }
 ],
 "metadata": {
  "kernelspec": {
   "display_name": "Python 3",
   "language": "python",
   "name": "python3"
  },
  "language_info": {
   "codemirror_mode": {
    "name": "ipython",
    "version": 3
   },
   "file_extension": ".py",
   "mimetype": "text/x-python",
   "name": "python",
   "nbconvert_exporter": "python",
   "pygments_lexer": "ipython3",
   "version": "3.7.2"
  }
 },
 "nbformat": 4,
 "nbformat_minor": 4
}
